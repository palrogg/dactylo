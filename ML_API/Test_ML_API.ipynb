{
 "cells": [
  {
   "cell_type": "code",
   "execution_count": 1,
   "id": "69d5fc67",
   "metadata": {},
   "outputs": [],
   "source": [
    "import httpx as h"
   ]
  },
  {
   "cell_type": "code",
   "execution_count": 9,
   "id": "bd5025c2",
   "metadata": {},
   "outputs": [
    {
     "data": {
      "text/plain": [
       "[{'accuracy': 0.9, 'speed': 600}]"
      ]
     },
     "execution_count": 9,
     "metadata": {},
     "output_type": "execute_result"
    }
   ],
   "source": [
    "h.post(\"http://127.0.0.1:5000/get_category\", json={}).json()"
   ]
  },
  {
   "cell_type": "code",
   "execution_count": 12,
   "id": "4d3908f0",
   "metadata": {},
   "outputs": [
    {
     "data": {
      "text/plain": [
       "\"que qui qu'ils\\nqu'à que qu'eux\\nquel quels quelle\""
      ]
     },
     "execution_count": 12,
     "metadata": {},
     "output_type": "execute_result"
    }
   ],
   "source": [
    "h.post(\"http://127.0.0.1:5000/custom_text\", json={}).json()"
   ]
  }
 ],
 "metadata": {
  "kernelspec": {
   "display_name": "cad",
   "language": "python",
   "name": "python3"
  },
  "language_info": {
   "codemirror_mode": {
    "name": "ipython",
    "version": 3
   },
   "file_extension": ".py",
   "mimetype": "text/x-python",
   "name": "python",
   "nbconvert_exporter": "python",
   "pygments_lexer": "ipython3",
   "version": "3.12.2"
  }
 },
 "nbformat": 4,
 "nbformat_minor": 5
}
